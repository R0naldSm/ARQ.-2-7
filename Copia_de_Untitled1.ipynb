{
  "nbformat": 4,
  "nbformat_minor": 0,
  "metadata": {
    "colab": {
      "provenance": [],
      "authorship_tag": "ABX9TyMGceUk8dc+iuoP+wdeiRLe",
      "include_colab_link": true
    },
    "kernelspec": {
      "name": "python3",
      "display_name": "Python 3"
    },
    "language_info": {
      "name": "python"
    },
    "accelerator": "GPU",
    "gpuClass": "standard"
  },
  "cells": [
    {
      "cell_type": "markdown",
      "metadata": {
        "id": "view-in-github",
        "colab_type": "text"
      },
      "source": [
        "<a href=\"https://colab.research.google.com/github/R0naldSm/ARQ.-2-7/blob/VE-2-7-main/Copia_de_Untitled1.ipynb\" target=\"_parent\"><img src=\"https://colab.research.google.com/assets/colab-badge.svg\" alt=\"Open In Colab\"/></a>"
      ]
    },
    {
      "cell_type": "code",
      "source": [
        "import platform\n",
        "import psutil\n",
        "\n",
        "# Obtener información sobre el microprocesador\n",
        "cpu_info = platform.processor()\n",
        "\n",
        "# Imprimir información sobre el microprocesador\n",
        "print(\"Microprocesador:\", cpu_info)\n",
        "\n",
        "# Verificar la presencia de una GPU\n",
        "has_gpu = False\n",
        "try:\n",
        "    with open(\"/proc/driver/nvidia/gpus/0000:00:00.0/information\", \"r\") as f:\n",
        "        has_gpu = True\n",
        "except:\n",
        "    pass\n",
        "\n",
        "if has_gpu:\n",
        "    print(\"Hay una GPU disponible\")\n",
        "else:\n",
        "    print(\"No hay una GPU disponible\")\n"
      ],
      "metadata": {
        "colab": {
          "base_uri": "https://localhost:8080/"
        },
        "id": "qdrjJbeuBe_U",
        "outputId": "21adf2c4-9455-4680-d507-668eb889003c"
      },
      "execution_count": null,
      "outputs": [
        {
          "output_type": "stream",
          "name": "stdout",
          "text": [
            "Microprocesador: x86_64\n",
            "No hay una GPU disponible\n"
          ]
        }
      ]
    }
  ]
}