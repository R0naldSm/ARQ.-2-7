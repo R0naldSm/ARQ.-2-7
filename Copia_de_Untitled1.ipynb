{
  "nbformat": 4,
  "nbformat_minor": 0,
  "metadata": {
    "colab": {
      "provenance": [],
      "authorship_tag": "ABX9TyNheawg0KHQek/gh7CkIFOf",
      "include_colab_link": true
    },
    "kernelspec": {
      "name": "python3",
      "display_name": "Python 3"
    },
    "language_info": {
      "name": "python"
    }
  },
  "cells": [
    {
      "cell_type": "markdown",
      "metadata": {
        "id": "view-in-github",
        "colab_type": "text"
      },
      "source": [
        "<a href=\"https://colab.research.google.com/github/R0naldSm/ARQ.-2-7/blob/VE-2-7-main/Copia_de_Untitled1.ipynb\" target=\"_parent\"><img src=\"https://colab.research.google.com/assets/colab-badge.svg\" alt=\"Open In Colab\"/></a>"
      ]
    },
    {
      "cell_type": "code",
      "execution_count": null,
      "metadata": {
        "colab": {
          "base_uri": "https://localhost:8080/"
        },
        "id": "AqYInosg7KZc",
        "outputId": "0c153aad-914f-4a83-a5db-0867d49cb23d"
      },
      "outputs": [
        {
          "output_type": "stream",
          "name": "stdout",
          "text": [
            "Dispositivos de entrada/salida:\n",
            "/dev/root\n",
            "/dev/sda1\n",
            "/dev/sda1\n",
            "/dev/sda1\n"
          ]
        }
      ],
      "source": [
        "import psutil\n",
        "\n",
        "def list_devices():\n",
        "    devices = []\n",
        "    for device in psutil.disk_partitions():\n",
        "        devices.append(device.device)\n",
        "    return devices\n",
        "\n",
        "print(\"Dispositivos de entrada/salida:\")\n",
        "for device in list_devices():\n",
        "    print(device)\n"
      ]
    }
  ]
}