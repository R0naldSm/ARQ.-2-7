{
  "nbformat": 4,
  "nbformat_minor": 0,
  "metadata": {
    "colab": {
      "provenance": [],
      "authorship_tag": "ABX9TyMRZ/3Y4sUw1Nis9rOe7neb",
      "include_colab_link": true
    },
    "kernelspec": {
      "name": "python3",
      "display_name": "Python 3"
    },
    "language_info": {
      "name": "python"
    }
  },
  "cells": [
    {
      "cell_type": "markdown",
      "metadata": {
        "id": "view-in-github",
        "colab_type": "text"
      },
      "source": [
        "<a href=\"https://colab.research.google.com/github/R0naldSm/ARQ.-2-7/blob/VE-2-7-main/Ejemplo1_0.ipynb\" target=\"_parent\"><img src=\"https://colab.research.google.com/assets/colab-badge.svg\" alt=\"Open In Colab\"/></a>"
      ]
    },
    {
      "cell_type": "markdown",
      "source": [
        "//Lenguaje Natural.//\n",
        "procedimiento contar(E punt: primero; S entero: n)\n",
        " var punt: p\n",
        " inicio\n",
        " n ← 0 //contador de elementos\n",
        " p ← primero\n",
        " mientras p <> nulo hacer\n",
        " n ← n + 1\n",
        " p ← p →.sig\n",
        " fin_mientras\n",
        " fin_procedimiento"
      ],
      "metadata": {
        "id": "o83IiwfbPCoh"
      }
    },
    {
      "cell_type": "code",
      "execution_count": null,
      "metadata": {
        "id": "MrWkbSdiOwt0"
      },
      "outputs": [],
      "source": [
        "def contar(primero, n):\n",
        "    p = primero\n",
        "    while p is not None:\n",
        "        n += 1\n",
        "        p = p.sig\n",
        "    return n\n"
      ]
    },
    {
      "cell_type": "markdown",
      "source": [
        "Este código asume que hay una clase Nodo con una propiedad sig que apunta al siguiente nodo en la lista. En la llamada a la función, primero sería el primer nodo de la lista y n sería un entero que representa el número actual de elementos en la lista. La función devuelve el número total de elementos en la lista después de recorrerla."
      ],
      "metadata": {
        "id": "_5_4wUPcO-Ax"
      }
    }
  ]
}