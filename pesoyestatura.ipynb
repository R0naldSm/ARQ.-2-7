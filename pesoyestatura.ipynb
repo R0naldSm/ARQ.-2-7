{
  "nbformat": 4,
  "nbformat_minor": 0,
  "metadata": {
    "colab": {
      "provenance": [],
      "authorship_tag": "ABX9TyOiN7/AhTx5Ex+HvE1f+Mfy",
      "include_colab_link": true
    },
    "kernelspec": {
      "name": "python3",
      "display_name": "Python 3"
    },
    "language_info": {
      "name": "python"
    }
  },
  "cells": [
    {
      "cell_type": "markdown",
      "metadata": {
        "id": "view-in-github",
        "colab_type": "text"
      },
      "source": [
        "<a href=\"https://colab.research.google.com/github/R0naldSm/ARQ.-2-7/blob/VE-2-7-main/pesoyestatura.ipynb\" target=\"_parent\"><img src=\"https://colab.research.google.com/assets/colab-badge.svg\" alt=\"Open In Colab\"/></a>"
      ]
    },
    {
      "cell_type": "code",
      "source": [
        "#@title Texto de título predeterminado\n",
        "Peso = 90 #@param {type:\"string\"}\n",
        "Estatura = 1.68 #@param {type:\"string\"}\n",
        "imc=Peso/pow(Estatura,2)\n",
        "imc"
      ],
      "metadata": {
        "colab": {
          "base_uri": "https://localhost:8080/"
        },
        "id": "kndPVs7BbVN7",
        "outputId": "188f8e69-3a03-4282-e3c7-6aab990a2350"
      },
      "execution_count": 1,
      "outputs": [
        {
          "output_type": "execute_result",
          "data": {
            "text/plain": [
              "31.88775510204082"
            ]
          },
          "metadata": {},
          "execution_count": 1
        }
      ]
    }
  ]
}